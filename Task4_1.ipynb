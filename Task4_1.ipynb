{
 "cells": [
  {
   "cell_type": "code",
   "execution_count": 26,
   "metadata": {},
   "outputs": [],
   "source": [
    "import pandas as pd\n",
    "import geopandas as gpd\n",
    "from shapely.geometry import Point\n",
    "from shapely.geometry.polygon import Polygon\n",
    "from pyquadkey2 import quadkey\n",
    "from shapely.geometry import Point, Polygon, MultiPolygon"
   ]
  },
  {
   "cell_type": "code",
   "execution_count": 27,
   "metadata": {},
   "outputs": [],
   "source": [
    "\n",
    "\n",
    "def get_point_in_polygon(lat, lon, polygons):\n",
    "    \"\"\"\n",
    "    @param lat: double\n",
    "    @param lon: double\n",
    "    @param polygons: dict\n",
    "    @return geo_id: str\n",
    "    \"\"\"\n",
    "    point = Point(lon, lat)\n",
    "    for geo_id in polygons:\n",
    "        polygon = polygons[geo_id]\n",
    "        if isinstance(polygon, Polygon):\n",
    "            if polygon.contains(point):\n",
    "                return geo_id\n",
    "        elif isinstance(polygon, MultiPolygon):\n",
    "            for subpolygon in polygon.geoms:\n",
    "                if subpolygon.contains(point):\n",
    "                    return geo_id\n",
    "    return 'null'\n"
   ]
  },
  {
   "cell_type": "code",
   "execution_count": 28,
   "metadata": {},
   "outputs": [
    {
     "name": "stdout",
     "output_type": "stream",
     "text": [
      "(160, 15)\n"
     ]
    },
    {
     "data": {
      "text/html": [
       "<div>\n",
       "<style scoped>\n",
       "    .dataframe tbody tr th:only-of-type {\n",
       "        vertical-align: middle;\n",
       "    }\n",
       "\n",
       "    .dataframe tbody tr th {\n",
       "        vertical-align: top;\n",
       "    }\n",
       "\n",
       "    .dataframe thead th {\n",
       "        text-align: right;\n",
       "    }\n",
       "</style>\n",
       "<table border=\"1\" class=\"dataframe\">\n",
       "  <thead>\n",
       "    <tr style=\"text-align: right;\">\n",
       "      <th></th>\n",
       "      <th>Shape_Leng</th>\n",
       "      <th>Shape_Area</th>\n",
       "      <th>ADM2_EN</th>\n",
       "      <th>ADM2_PCODE</th>\n",
       "      <th>ADM2_REF</th>\n",
       "      <th>ADM2ALT1EN</th>\n",
       "      <th>ADM2ALT2EN</th>\n",
       "      <th>ADM1_EN</th>\n",
       "      <th>ADM1_PCODE</th>\n",
       "      <th>ADM0_EN</th>\n",
       "      <th>ADM0_PCODE</th>\n",
       "      <th>date</th>\n",
       "      <th>validOn</th>\n",
       "      <th>validTo</th>\n",
       "      <th>geometry</th>\n",
       "    </tr>\n",
       "  </thead>\n",
       "  <tbody>\n",
       "    <tr>\n",
       "      <th>0</th>\n",
       "      <td>1.594116</td>\n",
       "      <td>0.067758</td>\n",
       "      <td>Bagh</td>\n",
       "      <td>PK101</td>\n",
       "      <td>None</td>\n",
       "      <td>None</td>\n",
       "      <td>None</td>\n",
       "      <td>Azad Kashmir</td>\n",
       "      <td>PK1</td>\n",
       "      <td>Pakistan</td>\n",
       "      <td>PK</td>\n",
       "      <td>2022-09-02</td>\n",
       "      <td>2022-09-09</td>\n",
       "      <td>None</td>\n",
       "      <td>POLYGON ((73.53892 34.12617, 73.53952 34.12492...</td>\n",
       "    </tr>\n",
       "    <tr>\n",
       "      <th>1</th>\n",
       "      <td>1.987888</td>\n",
       "      <td>0.117047</td>\n",
       "      <td>Bhimber</td>\n",
       "      <td>PK102</td>\n",
       "      <td>None</td>\n",
       "      <td>None</td>\n",
       "      <td>None</td>\n",
       "      <td>Azad Kashmir</td>\n",
       "      <td>PK1</td>\n",
       "      <td>Pakistan</td>\n",
       "      <td>PK</td>\n",
       "      <td>2022-09-02</td>\n",
       "      <td>2022-09-09</td>\n",
       "      <td>None</td>\n",
       "      <td>POLYGON ((73.96443 33.24121, 73.96562 33.24077...</td>\n",
       "    </tr>\n",
       "    <tr>\n",
       "      <th>2</th>\n",
       "      <td>1.300416</td>\n",
       "      <td>0.066683</td>\n",
       "      <td>Jhelum Valley</td>\n",
       "      <td>PK103</td>\n",
       "      <td>None</td>\n",
       "      <td>None</td>\n",
       "      <td>None</td>\n",
       "      <td>Azad Kashmir</td>\n",
       "      <td>PK1</td>\n",
       "      <td>Pakistan</td>\n",
       "      <td>PK</td>\n",
       "      <td>2022-09-02</td>\n",
       "      <td>2022-09-09</td>\n",
       "      <td>None</td>\n",
       "      <td>POLYGON ((73.91993 34.34231, 73.94097 34.30174...</td>\n",
       "    </tr>\n",
       "    <tr>\n",
       "      <th>3</th>\n",
       "      <td>1.001545</td>\n",
       "      <td>0.053722</td>\n",
       "      <td>Haveli</td>\n",
       "      <td>PK104</td>\n",
       "      <td>None</td>\n",
       "      <td>None</td>\n",
       "      <td>None</td>\n",
       "      <td>Azad Kashmir</td>\n",
       "      <td>PK1</td>\n",
       "      <td>Pakistan</td>\n",
       "      <td>PK</td>\n",
       "      <td>2022-09-02</td>\n",
       "      <td>2022-09-09</td>\n",
       "      <td>None</td>\n",
       "      <td>POLYGON ((74.15687 34.04042, 74.16142 34.03887...</td>\n",
       "    </tr>\n",
       "    <tr>\n",
       "      <th>4</th>\n",
       "      <td>2.017824</td>\n",
       "      <td>0.155069</td>\n",
       "      <td>Kotli</td>\n",
       "      <td>PK105</td>\n",
       "      <td>None</td>\n",
       "      <td>None</td>\n",
       "      <td>None</td>\n",
       "      <td>Azad Kashmir</td>\n",
       "      <td>PK1</td>\n",
       "      <td>Pakistan</td>\n",
       "      <td>PK</td>\n",
       "      <td>2022-09-02</td>\n",
       "      <td>2022-09-09</td>\n",
       "      <td>None</td>\n",
       "      <td>POLYGON ((73.62197 33.65854, 73.62265 33.65844...</td>\n",
       "    </tr>\n",
       "  </tbody>\n",
       "</table>\n",
       "</div>"
      ],
      "text/plain": [
       "   Shape_Leng  Shape_Area        ADM2_EN ADM2_PCODE ADM2_REF ADM2ALT1EN  \\\n",
       "0    1.594116    0.067758           Bagh      PK101     None       None   \n",
       "1    1.987888    0.117047        Bhimber      PK102     None       None   \n",
       "2    1.300416    0.066683  Jhelum Valley      PK103     None       None   \n",
       "3    1.001545    0.053722         Haveli      PK104     None       None   \n",
       "4    2.017824    0.155069          Kotli      PK105     None       None   \n",
       "\n",
       "  ADM2ALT2EN       ADM1_EN ADM1_PCODE   ADM0_EN ADM0_PCODE        date  \\\n",
       "0       None  Azad Kashmir        PK1  Pakistan         PK  2022-09-02   \n",
       "1       None  Azad Kashmir        PK1  Pakistan         PK  2022-09-02   \n",
       "2       None  Azad Kashmir        PK1  Pakistan         PK  2022-09-02   \n",
       "3       None  Azad Kashmir        PK1  Pakistan         PK  2022-09-02   \n",
       "4       None  Azad Kashmir        PK1  Pakistan         PK  2022-09-02   \n",
       "\n",
       "      validOn validTo                                           geometry  \n",
       "0  2022-09-09    None  POLYGON ((73.53892 34.12617, 73.53952 34.12492...  \n",
       "1  2022-09-09    None  POLYGON ((73.96443 33.24121, 73.96562 33.24077...  \n",
       "2  2022-09-09    None  POLYGON ((73.91993 34.34231, 73.94097 34.30174...  \n",
       "3  2022-09-09    None  POLYGON ((74.15687 34.04042, 74.16142 34.03887...  \n",
       "4  2022-09-09    None  POLYGON ((73.62197 33.65854, 73.62265 33.65844...  "
      ]
     },
     "execution_count": 28,
     "metadata": {},
     "output_type": "execute_result"
    }
   ],
   "source": [
    "shapefile = gpd.read_file('/Users/kismatkhatri/Documents/Capstone project/shapefile/pak_admbnda_adm2_wfp_20220909.shp')\n",
    "polygons = dict(zip(shapefile['ADM2_PCODE'], shapefile['geometry']))\n",
    "\n",
    "print(shapefile.shape)\n",
    "shapefile.head()"
   ]
  },
  {
   "cell_type": "code",
   "execution_count": 29,
   "metadata": {},
   "outputs": [
    {
     "data": {
      "text/html": [
       "<div>\n",
       "<style scoped>\n",
       "    .dataframe tbody tr th:only-of-type {\n",
       "        vertical-align: middle;\n",
       "    }\n",
       "\n",
       "    .dataframe tbody tr th {\n",
       "        vertical-align: top;\n",
       "    }\n",
       "\n",
       "    .dataframe thead th {\n",
       "        text-align: right;\n",
       "    }\n",
       "</style>\n",
       "<table border=\"1\" class=\"dataframe\">\n",
       "  <thead>\n",
       "    <tr style=\"text-align: right;\">\n",
       "      <th></th>\n",
       "      <th>latitude</th>\n",
       "      <th>longitude</th>\n",
       "      <th>rwi</th>\n",
       "      <th>error</th>\n",
       "      <th>quadkey</th>\n",
       "      <th>population</th>\n",
       "    </tr>\n",
       "  </thead>\n",
       "  <tbody>\n",
       "    <tr>\n",
       "      <th>0</th>\n",
       "      <td>33.897776</td>\n",
       "      <td>70.037842</td>\n",
       "      <td>-0.074</td>\n",
       "      <td>0.624</td>\n",
       "      <td>12310221130231</td>\n",
       "      <td>1190.728087</td>\n",
       "    </tr>\n",
       "    <tr>\n",
       "      <th>1</th>\n",
       "      <td>31.118794</td>\n",
       "      <td>66.807861</td>\n",
       "      <td>-0.569</td>\n",
       "      <td>0.368</td>\n",
       "      <td>12303111302200</td>\n",
       "      <td>99.496179</td>\n",
       "    </tr>\n",
       "    <tr>\n",
       "      <th>2</th>\n",
       "      <td>32.648625</td>\n",
       "      <td>73.245850</td>\n",
       "      <td>-0.193</td>\n",
       "      <td>0.498</td>\n",
       "      <td>12310322022121</td>\n",
       "      <td>5348.915150</td>\n",
       "    </tr>\n",
       "    <tr>\n",
       "      <th>3</th>\n",
       "      <td>35.182788</td>\n",
       "      <td>72.894287</td>\n",
       "      <td>-0.178</td>\n",
       "      <td>0.355</td>\n",
       "      <td>12310213112323</td>\n",
       "      <td>773.519400</td>\n",
       "    </tr>\n",
       "    <tr>\n",
       "      <th>4</th>\n",
       "      <td>25.948166</td>\n",
       "      <td>69.268799</td>\n",
       "      <td>-0.530</td>\n",
       "      <td>0.450</td>\n",
       "      <td>12312201232000</td>\n",
       "      <td>728.985542</td>\n",
       "    </tr>\n",
       "  </tbody>\n",
       "</table>\n",
       "</div>"
      ],
      "text/plain": [
       "    latitude  longitude    rwi  error         quadkey   population\n",
       "0  33.897776  70.037842 -0.074  0.624  12310221130231  1190.728087\n",
       "1  31.118794  66.807861 -0.569  0.368  12303111302200    99.496179\n",
       "2  32.648625  73.245850 -0.193  0.498  12310322022121  5348.915150\n",
       "3  35.182788  72.894287 -0.178  0.355  12310213112323   773.519400\n",
       "4  25.948166  69.268799 -0.530  0.450  12312201232000   728.985542"
      ]
     },
     "execution_count": 29,
     "metadata": {},
     "output_type": "execute_result"
    }
   ],
   "source": [
    "rwi_df = pd.read_csv('/Users/kismatkhatri/Documents/Capstone project/joinedRWI_population.csv')\n",
    "rwi_df.head()\n"
   ]
  },
  {
   "cell_type": "code",
   "execution_count": 30,
   "metadata": {},
   "outputs": [
    {
     "name": "stdout",
     "output_type": "stream",
     "text": [
      "(85643, 7)\n"
     ]
    },
    {
     "data": {
      "text/html": [
       "<div>\n",
       "<style scoped>\n",
       "    .dataframe tbody tr th:only-of-type {\n",
       "        vertical-align: middle;\n",
       "    }\n",
       "\n",
       "    .dataframe tbody tr th {\n",
       "        vertical-align: top;\n",
       "    }\n",
       "\n",
       "    .dataframe thead th {\n",
       "        text-align: right;\n",
       "    }\n",
       "</style>\n",
       "<table border=\"1\" class=\"dataframe\">\n",
       "  <thead>\n",
       "    <tr style=\"text-align: right;\">\n",
       "      <th></th>\n",
       "      <th>latitude</th>\n",
       "      <th>longitude</th>\n",
       "      <th>rwi</th>\n",
       "      <th>error</th>\n",
       "      <th>quadkey</th>\n",
       "      <th>population</th>\n",
       "      <th>geo_id</th>\n",
       "    </tr>\n",
       "  </thead>\n",
       "  <tbody>\n",
       "    <tr>\n",
       "      <th>0</th>\n",
       "      <td>33.897776</td>\n",
       "      <td>70.037842</td>\n",
       "      <td>-0.074</td>\n",
       "      <td>0.624</td>\n",
       "      <td>12310221130231</td>\n",
       "      <td>1190.728087</td>\n",
       "      <td>PK518</td>\n",
       "    </tr>\n",
       "    <tr>\n",
       "      <th>1</th>\n",
       "      <td>31.118794</td>\n",
       "      <td>66.807861</td>\n",
       "      <td>-0.569</td>\n",
       "      <td>0.368</td>\n",
       "      <td>12303111302200</td>\n",
       "      <td>99.496179</td>\n",
       "      <td>PK235</td>\n",
       "    </tr>\n",
       "    <tr>\n",
       "      <th>2</th>\n",
       "      <td>32.648625</td>\n",
       "      <td>73.245850</td>\n",
       "      <td>-0.193</td>\n",
       "      <td>0.498</td>\n",
       "      <td>12310322022121</td>\n",
       "      <td>5348.915150</td>\n",
       "      <td>PK613</td>\n",
       "    </tr>\n",
       "    <tr>\n",
       "      <th>3</th>\n",
       "      <td>35.182788</td>\n",
       "      <td>72.894287</td>\n",
       "      <td>-0.178</td>\n",
       "      <td>0.355</td>\n",
       "      <td>12310213112323</td>\n",
       "      <td>773.519400</td>\n",
       "      <td>PK515</td>\n",
       "    </tr>\n",
       "    <tr>\n",
       "      <th>4</th>\n",
       "      <td>25.948166</td>\n",
       "      <td>69.268799</td>\n",
       "      <td>-0.530</td>\n",
       "      <td>0.450</td>\n",
       "      <td>12312201232000</td>\n",
       "      <td>728.985542</td>\n",
       "      <td>PK718</td>\n",
       "    </tr>\n",
       "  </tbody>\n",
       "</table>\n",
       "</div>"
      ],
      "text/plain": [
       "    latitude  longitude    rwi  error         quadkey   population geo_id\n",
       "0  33.897776  70.037842 -0.074  0.624  12310221130231  1190.728087  PK518\n",
       "1  31.118794  66.807861 -0.569  0.368  12303111302200    99.496179  PK235\n",
       "2  32.648625  73.245850 -0.193  0.498  12310322022121  5348.915150  PK613\n",
       "3  35.182788  72.894287 -0.178  0.355  12310213112323   773.519400  PK515\n",
       "4  25.948166  69.268799 -0.530  0.450  12312201232000   728.985542  PK718"
      ]
     },
     "execution_count": 30,
     "metadata": {},
     "output_type": "execute_result"
    }
   ],
   "source": [
    "rwi_df['geo_id'] = rwi_df.apply(lambda x: get_point_in_polygon(x['latitude'], x['longitude'], polygons), axis=1)\n",
    "rwi_df = rwi_df[rwi_df['geo_id'] != 'null']\n",
    "\n",
    "print(rwi_df.shape)\n",
    "rwi_df.head()\n",
    " "
   ]
  },
  {
   "cell_type": "code",
   "execution_count": 31,
   "metadata": {},
   "outputs": [],
   "source": [
    "rwi_df.to_csv('/Users/kismatkhatri/Documents/Capstone project/RWI_population_quadkey_geo_id.csv', index=False)"
   ]
  },
  {
   "cell_type": "code",
   "execution_count": 33,
   "metadata": {},
   "outputs": [],
   "source": [
    "bing_tile_z14_pop = rwi_df.groupby('quadkey', as_index=False)['population'].sum()\n"
   ]
  },
  {
   "cell_type": "code",
   "execution_count": 34,
   "metadata": {},
   "outputs": [],
   "source": [
    "geo_pop = rwi_df.groupby('geo_id', as_index=False)['population'].sum()\n"
   ]
  },
  {
   "cell_type": "code",
   "execution_count": 35,
   "metadata": {},
   "outputs": [],
   "source": [
    "rwi_df = rwi_df.merge(bing_tile_z14_pop, on='quadkey', how='left')\n"
   ]
  },
  {
   "cell_type": "code",
   "execution_count": 37,
   "metadata": {},
   "outputs": [
    {
     "data": {
      "text/plain": [
       "Index(['latitude', 'longitude', 'rwi', 'error', 'quadkey', 'population_x',\n",
       "       'geo_id', 'population_y'],\n",
       "      dtype='object')"
      ]
     },
     "execution_count": 37,
     "metadata": {},
     "output_type": "execute_result"
    }
   ],
   "source": [
    "rwi_df.columns"
   ]
  },
  {
   "cell_type": "code",
   "execution_count": 39,
   "metadata": {},
   "outputs": [
    {
     "data": {
      "text/plain": [
       "0        1190.728087\n",
       "1          99.496179\n",
       "2        5348.915150\n",
       "3         773.519400\n",
       "4         728.985542\n",
       "            ...     \n",
       "85638     122.458884\n",
       "85639    4363.553928\n",
       "85640     201.658053\n",
       "85641     267.999888\n",
       "85642    3443.343820\n",
       "Name: population_x, Length: 85643, dtype: float64"
      ]
     },
     "execution_count": 39,
     "metadata": {},
     "output_type": "execute_result"
    }
   ],
   "source": [
    "rwi_df['population_x']"
   ]
  },
  {
   "cell_type": "code",
   "execution_count": 40,
   "metadata": {},
   "outputs": [
    {
     "data": {
      "text/plain": [
       "0        1190.728087\n",
       "1          99.496179\n",
       "2        5348.915150\n",
       "3         773.519400\n",
       "4         728.985542\n",
       "            ...     \n",
       "85638     122.458884\n",
       "85639    4363.553928\n",
       "85640     201.658053\n",
       "85641     535.999776\n",
       "85642    6886.687640\n",
       "Name: population_y, Length: 85643, dtype: float64"
      ]
     },
     "execution_count": 40,
     "metadata": {},
     "output_type": "execute_result"
    }
   ],
   "source": [
    "rwi_df['population_y']"
   ]
  },
  {
   "cell_type": "code",
   "execution_count": 38,
   "metadata": {},
   "outputs": [
    {
     "data": {
      "text/plain": [
       "Index(['geo_id', 'population'], dtype='object')"
      ]
     },
     "execution_count": 38,
     "metadata": {},
     "output_type": "execute_result"
    }
   ],
   "source": [
    "geo_pop.columns"
   ]
  },
  {
   "cell_type": "code",
   "execution_count": 41,
   "metadata": {},
   "outputs": [],
   "source": [
    "rwi_df['pop_weight'] = rwi_df['population_y'] / rwi_df['geo_id'].map(geo_pop.set_index('geo_id')['population'])\n",
    "rwi_df['rwi_weight'] = rwi_df['rwi'] * rwi_df['pop_weight']\n"
   ]
  },
  {
   "cell_type": "code",
   "execution_count": 42,
   "metadata": {},
   "outputs": [
    {
     "data": {
      "text/plain": [
       "0       -0.000128\n",
       "1       -0.000293\n",
       "2       -0.000675\n",
       "3       -0.000641\n",
       "4       -0.000181\n",
       "           ...   \n",
       "85638   -0.000169\n",
       "85639    0.000701\n",
       "85640   -0.000044\n",
       "85641   -0.000061\n",
       "85642   -0.002611\n",
       "Name: rwi_weight, Length: 85643, dtype: float64"
      ]
     },
     "execution_count": 42,
     "metadata": {},
     "output_type": "execute_result"
    }
   ],
   "source": [
    "rwi_df['rwi_weight']"
   ]
  },
  {
   "cell_type": "code",
   "execution_count": 44,
   "metadata": {},
   "outputs": [],
   "source": [
    "geo_rwi = rwi_df.groupby('geo_id', as_index=False)['rwi_weight'].sum()\n"
   ]
  },
  {
   "cell_type": "code",
   "execution_count": 46,
   "metadata": {},
   "outputs": [
    {
     "data": {
      "text/plain": [
       "0      0.050482\n",
       "1      0.027296\n",
       "2      0.021551\n",
       "3     -0.263393\n",
       "4      0.066787\n",
       "         ...   \n",
       "155   -0.249242\n",
       "156   -0.347638\n",
       "157   -0.250791\n",
       "158   -0.196405\n",
       "159    0.889178\n",
       "Name: rwi_weight, Length: 160, dtype: float64"
      ]
     },
     "execution_count": 46,
     "metadata": {},
     "output_type": "execute_result"
    }
   ],
   "source": [
    "geo_rwi['rwi_weight']"
   ]
  }
 ],
 "metadata": {
  "kernelspec": {
   "display_name": "base",
   "language": "python",
   "name": "python3"
  },
  "language_info": {
   "codemirror_mode": {
    "name": "ipython",
    "version": 3
   },
   "file_extension": ".py",
   "mimetype": "text/x-python",
   "name": "python",
   "nbconvert_exporter": "python",
   "pygments_lexer": "ipython3",
   "version": "3.9.12"
  }
 },
 "nbformat": 4,
 "nbformat_minor": 2
}
