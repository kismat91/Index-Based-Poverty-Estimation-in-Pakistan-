{
 "cells": [
  {
   "cell_type": "code",
   "execution_count": 25,
   "metadata": {},
   "outputs": [],
   "source": [
    "import pandas as pd\n",
    "import seaborn as sns\n",
    "import matplotlib.pyplot as plt\n",
    "import seaborn as sns\n",
    "import numpy as np\n",
    "import geopandas as gpd\n",
    "from shapely.geometry import Point\n",
    "from shapely.geometry.polygon import Polygon\n",
    "from pyquadkey2 import quadkey\n",
    "from shapely.geometry import Point, Polygon, MultiPolygon\n",
    "import rasterio\n",
    "from rasterio.plot import show\n",
    "from scipy.ndimage import gaussian_filter\n",
    "import rasterio.mask"
   ]
  },
  {
   "cell_type": "code",
   "execution_count": 27,
   "metadata": {},
   "outputs": [],
   "source": [
    "\n",
    "\n",
    "def get_point_in_polygon(lat, lon, polygons):\n",
    "    \"\"\"\n",
    "    @param lat: double\n",
    "    @param lon: double\n",
    "    @param polygons: dict\n",
    "    @return geo_id: str\n",
    "    \"\"\"\n",
    "    point = Point(lon, lat)\n",
    "    for geo_id in polygons:\n",
    "        polygon = polygons[geo_id]\n",
    "        if isinstance(polygon, Polygon):\n",
    "            if polygon.contains(point):\n",
    "                return geo_id\n",
    "        elif isinstance(polygon, MultiPolygon):\n",
    "            for subpolygon in polygon.geoms:\n",
    "                if subpolygon.contains(point):\n",
    "                    return geo_id\n",
    "    return 'null'\n"
   ]
  },
  {
   "cell_type": "code",
   "execution_count": 28,
   "metadata": {},
   "outputs": [
    {
     "name": "stdout",
     "output_type": "stream",
     "text": [
      "(160, 15)\n"
     ]
    },
    {
     "data": {
      "text/html": [
       "<div>\n",
       "<style scoped>\n",
       "    .dataframe tbody tr th:only-of-type {\n",
       "        vertical-align: middle;\n",
       "    }\n",
       "\n",
       "    .dataframe tbody tr th {\n",
       "        vertical-align: top;\n",
       "    }\n",
       "\n",
       "    .dataframe thead th {\n",
       "        text-align: right;\n",
       "    }\n",
       "</style>\n",
       "<table border=\"1\" class=\"dataframe\">\n",
       "  <thead>\n",
       "    <tr style=\"text-align: right;\">\n",
       "      <th></th>\n",
       "      <th>Shape_Leng</th>\n",
       "      <th>Shape_Area</th>\n",
       "      <th>ADM2_EN</th>\n",
       "      <th>ADM2_PCODE</th>\n",
       "      <th>ADM2_REF</th>\n",
       "      <th>ADM2ALT1EN</th>\n",
       "      <th>ADM2ALT2EN</th>\n",
       "      <th>ADM1_EN</th>\n",
       "      <th>ADM1_PCODE</th>\n",
       "      <th>ADM0_EN</th>\n",
       "      <th>ADM0_PCODE</th>\n",
       "      <th>date</th>\n",
       "      <th>validOn</th>\n",
       "      <th>validTo</th>\n",
       "      <th>geometry</th>\n",
       "    </tr>\n",
       "  </thead>\n",
       "  <tbody>\n",
       "    <tr>\n",
       "      <th>0</th>\n",
       "      <td>1.594116</td>\n",
       "      <td>0.067758</td>\n",
       "      <td>Bagh</td>\n",
       "      <td>PK101</td>\n",
       "      <td>None</td>\n",
       "      <td>None</td>\n",
       "      <td>None</td>\n",
       "      <td>Azad Kashmir</td>\n",
       "      <td>PK1</td>\n",
       "      <td>Pakistan</td>\n",
       "      <td>PK</td>\n",
       "      <td>2022-09-02</td>\n",
       "      <td>2022-09-09</td>\n",
       "      <td>None</td>\n",
       "      <td>POLYGON ((73.53892 34.12617, 73.53952 34.12492...</td>\n",
       "    </tr>\n",
       "    <tr>\n",
       "      <th>1</th>\n",
       "      <td>1.987888</td>\n",
       "      <td>0.117047</td>\n",
       "      <td>Bhimber</td>\n",
       "      <td>PK102</td>\n",
       "      <td>None</td>\n",
       "      <td>None</td>\n",
       "      <td>None</td>\n",
       "      <td>Azad Kashmir</td>\n",
       "      <td>PK1</td>\n",
       "      <td>Pakistan</td>\n",
       "      <td>PK</td>\n",
       "      <td>2022-09-02</td>\n",
       "      <td>2022-09-09</td>\n",
       "      <td>None</td>\n",
       "      <td>POLYGON ((73.96443 33.24121, 73.96562 33.24077...</td>\n",
       "    </tr>\n",
       "    <tr>\n",
       "      <th>2</th>\n",
       "      <td>1.300416</td>\n",
       "      <td>0.066683</td>\n",
       "      <td>Jhelum Valley</td>\n",
       "      <td>PK103</td>\n",
       "      <td>None</td>\n",
       "      <td>None</td>\n",
       "      <td>None</td>\n",
       "      <td>Azad Kashmir</td>\n",
       "      <td>PK1</td>\n",
       "      <td>Pakistan</td>\n",
       "      <td>PK</td>\n",
       "      <td>2022-09-02</td>\n",
       "      <td>2022-09-09</td>\n",
       "      <td>None</td>\n",
       "      <td>POLYGON ((73.91993 34.34231, 73.94097 34.30174...</td>\n",
       "    </tr>\n",
       "    <tr>\n",
       "      <th>3</th>\n",
       "      <td>1.001545</td>\n",
       "      <td>0.053722</td>\n",
       "      <td>Haveli</td>\n",
       "      <td>PK104</td>\n",
       "      <td>None</td>\n",
       "      <td>None</td>\n",
       "      <td>None</td>\n",
       "      <td>Azad Kashmir</td>\n",
       "      <td>PK1</td>\n",
       "      <td>Pakistan</td>\n",
       "      <td>PK</td>\n",
       "      <td>2022-09-02</td>\n",
       "      <td>2022-09-09</td>\n",
       "      <td>None</td>\n",
       "      <td>POLYGON ((74.15687 34.04042, 74.16142 34.03887...</td>\n",
       "    </tr>\n",
       "    <tr>\n",
       "      <th>4</th>\n",
       "      <td>2.017824</td>\n",
       "      <td>0.155069</td>\n",
       "      <td>Kotli</td>\n",
       "      <td>PK105</td>\n",
       "      <td>None</td>\n",
       "      <td>None</td>\n",
       "      <td>None</td>\n",
       "      <td>Azad Kashmir</td>\n",
       "      <td>PK1</td>\n",
       "      <td>Pakistan</td>\n",
       "      <td>PK</td>\n",
       "      <td>2022-09-02</td>\n",
       "      <td>2022-09-09</td>\n",
       "      <td>None</td>\n",
       "      <td>POLYGON ((73.62197 33.65854, 73.62265 33.65844...</td>\n",
       "    </tr>\n",
       "  </tbody>\n",
       "</table>\n",
       "</div>"
      ],
      "text/plain": [
       "   Shape_Leng  Shape_Area        ADM2_EN ADM2_PCODE ADM2_REF ADM2ALT1EN  \\\n",
       "0    1.594116    0.067758           Bagh      PK101     None       None   \n",
       "1    1.987888    0.117047        Bhimber      PK102     None       None   \n",
       "2    1.300416    0.066683  Jhelum Valley      PK103     None       None   \n",
       "3    1.001545    0.053722         Haveli      PK104     None       None   \n",
       "4    2.017824    0.155069          Kotli      PK105     None       None   \n",
       "\n",
       "  ADM2ALT2EN       ADM1_EN ADM1_PCODE   ADM0_EN ADM0_PCODE        date  \\\n",
       "0       None  Azad Kashmir        PK1  Pakistan         PK  2022-09-02   \n",
       "1       None  Azad Kashmir        PK1  Pakistan         PK  2022-09-02   \n",
       "2       None  Azad Kashmir        PK1  Pakistan         PK  2022-09-02   \n",
       "3       None  Azad Kashmir        PK1  Pakistan         PK  2022-09-02   \n",
       "4       None  Azad Kashmir        PK1  Pakistan         PK  2022-09-02   \n",
       "\n",
       "      validOn validTo                                           geometry  \n",
       "0  2022-09-09    None  POLYGON ((73.53892 34.12617, 73.53952 34.12492...  \n",
       "1  2022-09-09    None  POLYGON ((73.96443 33.24121, 73.96562 33.24077...  \n",
       "2  2022-09-09    None  POLYGON ((73.91993 34.34231, 73.94097 34.30174...  \n",
       "3  2022-09-09    None  POLYGON ((74.15687 34.04042, 74.16142 34.03887...  \n",
       "4  2022-09-09    None  POLYGON ((73.62197 33.65854, 73.62265 33.65844...  "
      ]
     },
     "execution_count": 28,
     "metadata": {},
     "output_type": "execute_result"
    }
   ],
   "source": [
    "shapefile = gpd.read_file('/Users/kismatkhatri/Documents/Capstone project/shapefile/pak_admbnda_adm2_wfp_20220909.shp')\n",
    "polygons = dict(zip(shapefile['ADM2_PCODE'], shapefile['geometry']))\n",
    "\n",
    "print(shapefile.shape)\n",
    "shapefile.head()"
   ]
  },
  {
   "cell_type": "code",
   "execution_count": 29,
   "metadata": {},
   "outputs": [
    {
     "data": {
      "text/html": [
       "<div>\n",
       "<style scoped>\n",
       "    .dataframe tbody tr th:only-of-type {\n",
       "        vertical-align: middle;\n",
       "    }\n",
       "\n",
       "    .dataframe tbody tr th {\n",
       "        vertical-align: top;\n",
       "    }\n",
       "\n",
       "    .dataframe thead th {\n",
       "        text-align: right;\n",
       "    }\n",
       "</style>\n",
       "<table border=\"1\" class=\"dataframe\">\n",
       "  <thead>\n",
       "    <tr style=\"text-align: right;\">\n",
       "      <th></th>\n",
       "      <th>latitude</th>\n",
       "      <th>longitude</th>\n",
       "      <th>rwi</th>\n",
       "      <th>error</th>\n",
       "      <th>quadkey</th>\n",
       "      <th>population</th>\n",
       "    </tr>\n",
       "  </thead>\n",
       "  <tbody>\n",
       "    <tr>\n",
       "      <th>0</th>\n",
       "      <td>33.897776</td>\n",
       "      <td>70.037842</td>\n",
       "      <td>-0.074</td>\n",
       "      <td>0.624</td>\n",
       "      <td>12310221130231</td>\n",
       "      <td>1190.728087</td>\n",
       "    </tr>\n",
       "    <tr>\n",
       "      <th>1</th>\n",
       "      <td>31.118794</td>\n",
       "      <td>66.807861</td>\n",
       "      <td>-0.569</td>\n",
       "      <td>0.368</td>\n",
       "      <td>12303111302200</td>\n",
       "      <td>99.496179</td>\n",
       "    </tr>\n",
       "    <tr>\n",
       "      <th>2</th>\n",
       "      <td>32.648625</td>\n",
       "      <td>73.245850</td>\n",
       "      <td>-0.193</td>\n",
       "      <td>0.498</td>\n",
       "      <td>12310322022121</td>\n",
       "      <td>5348.915150</td>\n",
       "    </tr>\n",
       "    <tr>\n",
       "      <th>3</th>\n",
       "      <td>35.182788</td>\n",
       "      <td>72.894287</td>\n",
       "      <td>-0.178</td>\n",
       "      <td>0.355</td>\n",
       "      <td>12310213112323</td>\n",
       "      <td>773.519400</td>\n",
       "    </tr>\n",
       "    <tr>\n",
       "      <th>4</th>\n",
       "      <td>25.948166</td>\n",
       "      <td>69.268799</td>\n",
       "      <td>-0.530</td>\n",
       "      <td>0.450</td>\n",
       "      <td>12312201232000</td>\n",
       "      <td>728.985542</td>\n",
       "    </tr>\n",
       "  </tbody>\n",
       "</table>\n",
       "</div>"
      ],
      "text/plain": [
       "    latitude  longitude    rwi  error         quadkey   population\n",
       "0  33.897776  70.037842 -0.074  0.624  12310221130231  1190.728087\n",
       "1  31.118794  66.807861 -0.569  0.368  12303111302200    99.496179\n",
       "2  32.648625  73.245850 -0.193  0.498  12310322022121  5348.915150\n",
       "3  35.182788  72.894287 -0.178  0.355  12310213112323   773.519400\n",
       "4  25.948166  69.268799 -0.530  0.450  12312201232000   728.985542"
      ]
     },
     "execution_count": 29,
     "metadata": {},
     "output_type": "execute_result"
    }
   ],
   "source": [
    "rwi_df = pd.read_csv('/Users/kismatkhatri/Documents/Capstone project/joinedRWI_population.csv')\n",
    "rwi_df.head()\n"
   ]
  },
  {
   "cell_type": "code",
   "execution_count": 30,
   "metadata": {},
   "outputs": [
    {
     "name": "stdout",
     "output_type": "stream",
     "text": [
      "(85643, 7)\n"
     ]
    },
    {
     "data": {
      "text/html": [
       "<div>\n",
       "<style scoped>\n",
       "    .dataframe tbody tr th:only-of-type {\n",
       "        vertical-align: middle;\n",
       "    }\n",
       "\n",
       "    .dataframe tbody tr th {\n",
       "        vertical-align: top;\n",
       "    }\n",
       "\n",
       "    .dataframe thead th {\n",
       "        text-align: right;\n",
       "    }\n",
       "</style>\n",
       "<table border=\"1\" class=\"dataframe\">\n",
       "  <thead>\n",
       "    <tr style=\"text-align: right;\">\n",
       "      <th></th>\n",
       "      <th>latitude</th>\n",
       "      <th>longitude</th>\n",
       "      <th>rwi</th>\n",
       "      <th>error</th>\n",
       "      <th>quadkey</th>\n",
       "      <th>population</th>\n",
       "      <th>geo_id</th>\n",
       "    </tr>\n",
       "  </thead>\n",
       "  <tbody>\n",
       "    <tr>\n",
       "      <th>0</th>\n",
       "      <td>33.897776</td>\n",
       "      <td>70.037842</td>\n",
       "      <td>-0.074</td>\n",
       "      <td>0.624</td>\n",
       "      <td>12310221130231</td>\n",
       "      <td>1190.728087</td>\n",
       "      <td>PK518</td>\n",
       "    </tr>\n",
       "    <tr>\n",
       "      <th>1</th>\n",
       "      <td>31.118794</td>\n",
       "      <td>66.807861</td>\n",
       "      <td>-0.569</td>\n",
       "      <td>0.368</td>\n",
       "      <td>12303111302200</td>\n",
       "      <td>99.496179</td>\n",
       "      <td>PK235</td>\n",
       "    </tr>\n",
       "    <tr>\n",
       "      <th>2</th>\n",
       "      <td>32.648625</td>\n",
       "      <td>73.245850</td>\n",
       "      <td>-0.193</td>\n",
       "      <td>0.498</td>\n",
       "      <td>12310322022121</td>\n",
       "      <td>5348.915150</td>\n",
       "      <td>PK613</td>\n",
       "    </tr>\n",
       "    <tr>\n",
       "      <th>3</th>\n",
       "      <td>35.182788</td>\n",
       "      <td>72.894287</td>\n",
       "      <td>-0.178</td>\n",
       "      <td>0.355</td>\n",
       "      <td>12310213112323</td>\n",
       "      <td>773.519400</td>\n",
       "      <td>PK515</td>\n",
       "    </tr>\n",
       "    <tr>\n",
       "      <th>4</th>\n",
       "      <td>25.948166</td>\n",
       "      <td>69.268799</td>\n",
       "      <td>-0.530</td>\n",
       "      <td>0.450</td>\n",
       "      <td>12312201232000</td>\n",
       "      <td>728.985542</td>\n",
       "      <td>PK718</td>\n",
       "    </tr>\n",
       "  </tbody>\n",
       "</table>\n",
       "</div>"
      ],
      "text/plain": [
       "    latitude  longitude    rwi  error         quadkey   population geo_id\n",
       "0  33.897776  70.037842 -0.074  0.624  12310221130231  1190.728087  PK518\n",
       "1  31.118794  66.807861 -0.569  0.368  12303111302200    99.496179  PK235\n",
       "2  32.648625  73.245850 -0.193  0.498  12310322022121  5348.915150  PK613\n",
       "3  35.182788  72.894287 -0.178  0.355  12310213112323   773.519400  PK515\n",
       "4  25.948166  69.268799 -0.530  0.450  12312201232000   728.985542  PK718"
      ]
     },
     "execution_count": 30,
     "metadata": {},
     "output_type": "execute_result"
    }
   ],
   "source": [
    "rwi_df['geo_id'] = rwi_df.apply(lambda x: get_point_in_polygon(x['latitude'], x['longitude'], polygons), axis=1)\n",
    "rwi_df = rwi_df[rwi_df['geo_id'] != 'null']\n",
    "\n",
    "print(rwi_df.shape)\n",
    "rwi_df.head()\n",
    " "
   ]
  },
  {
   "cell_type": "code",
   "execution_count": 31,
   "metadata": {},
   "outputs": [],
   "source": [
    "#rwi_df.to_csv('/Users/kismatkhatri/Documents/Capstone project/RWI_population_quadkey_geo_id.csv', index=False)"
   ]
  },
  {
   "cell_type": "code",
   "execution_count": 3,
   "metadata": {},
   "outputs": [
    {
     "data": {
      "text/html": [
       "<div>\n",
       "<style scoped>\n",
       "    .dataframe tbody tr th:only-of-type {\n",
       "        vertical-align: middle;\n",
       "    }\n",
       "\n",
       "    .dataframe tbody tr th {\n",
       "        vertical-align: top;\n",
       "    }\n",
       "\n",
       "    .dataframe thead th {\n",
       "        text-align: right;\n",
       "    }\n",
       "</style>\n",
       "<table border=\"1\" class=\"dataframe\">\n",
       "  <thead>\n",
       "    <tr style=\"text-align: right;\">\n",
       "      <th></th>\n",
       "      <th>latitude</th>\n",
       "      <th>longitude</th>\n",
       "      <th>rwi</th>\n",
       "      <th>error</th>\n",
       "      <th>quadkey</th>\n",
       "      <th>population</th>\n",
       "      <th>geo_id</th>\n",
       "    </tr>\n",
       "  </thead>\n",
       "  <tbody>\n",
       "    <tr>\n",
       "      <th>0</th>\n",
       "      <td>33.897776</td>\n",
       "      <td>70.037842</td>\n",
       "      <td>-0.074</td>\n",
       "      <td>0.624</td>\n",
       "      <td>12310221130231</td>\n",
       "      <td>1190.728087</td>\n",
       "      <td>PK518</td>\n",
       "    </tr>\n",
       "    <tr>\n",
       "      <th>1</th>\n",
       "      <td>31.118794</td>\n",
       "      <td>66.807861</td>\n",
       "      <td>-0.569</td>\n",
       "      <td>0.368</td>\n",
       "      <td>12303111302200</td>\n",
       "      <td>99.496179</td>\n",
       "      <td>PK235</td>\n",
       "    </tr>\n",
       "    <tr>\n",
       "      <th>2</th>\n",
       "      <td>32.648625</td>\n",
       "      <td>73.245850</td>\n",
       "      <td>-0.193</td>\n",
       "      <td>0.498</td>\n",
       "      <td>12310322022121</td>\n",
       "      <td>5348.915150</td>\n",
       "      <td>PK613</td>\n",
       "    </tr>\n",
       "    <tr>\n",
       "      <th>3</th>\n",
       "      <td>35.182788</td>\n",
       "      <td>72.894287</td>\n",
       "      <td>-0.178</td>\n",
       "      <td>0.355</td>\n",
       "      <td>12310213112323</td>\n",
       "      <td>773.519400</td>\n",
       "      <td>PK515</td>\n",
       "    </tr>\n",
       "    <tr>\n",
       "      <th>4</th>\n",
       "      <td>25.948166</td>\n",
       "      <td>69.268799</td>\n",
       "      <td>-0.530</td>\n",
       "      <td>0.450</td>\n",
       "      <td>12312201232000</td>\n",
       "      <td>728.985542</td>\n",
       "      <td>PK718</td>\n",
       "    </tr>\n",
       "  </tbody>\n",
       "</table>\n",
       "</div>"
      ],
      "text/plain": [
       "    latitude  longitude    rwi  error         quadkey   population geo_id\n",
       "0  33.897776  70.037842 -0.074  0.624  12310221130231  1190.728087  PK518\n",
       "1  31.118794  66.807861 -0.569  0.368  12303111302200    99.496179  PK235\n",
       "2  32.648625  73.245850 -0.193  0.498  12310322022121  5348.915150  PK613\n",
       "3  35.182788  72.894287 -0.178  0.355  12310213112323   773.519400  PK515\n",
       "4  25.948166  69.268799 -0.530  0.450  12312201232000   728.985542  PK718"
      ]
     },
     "execution_count": 3,
     "metadata": {},
     "output_type": "execute_result"
    }
   ],
   "source": [
    "rwi_df = pd.read_csv('/Users/kismatkhatri/Documents/Capstone project/RWI_population_quadkey_geo_id.csv')\n",
    "rwi_df.head()"
   ]
  },
  {
   "cell_type": "code",
   "execution_count": 4,
   "metadata": {},
   "outputs": [],
   "source": [
    "bing_tile_z14_pop = rwi_df.groupby('quadkey', as_index=False)['population'].sum()\n"
   ]
  },
  {
   "cell_type": "code",
   "execution_count": 5,
   "metadata": {},
   "outputs": [],
   "source": [
    "geo_pop = rwi_df.groupby('geo_id', as_index=False)['population'].sum()\n"
   ]
  },
  {
   "cell_type": "code",
   "execution_count": 6,
   "metadata": {},
   "outputs": [],
   "source": [
    "rwi_df = rwi_df.merge(bing_tile_z14_pop, on='quadkey', how='left')\n"
   ]
  },
  {
   "cell_type": "code",
   "execution_count": 7,
   "metadata": {},
   "outputs": [
    {
     "data": {
      "text/plain": [
       "Index(['latitude', 'longitude', 'rwi', 'error', 'quadkey', 'population_x',\n",
       "       'geo_id', 'population_y'],\n",
       "      dtype='object')"
      ]
     },
     "execution_count": 7,
     "metadata": {},
     "output_type": "execute_result"
    }
   ],
   "source": [
    "rwi_df.columns"
   ]
  },
  {
   "cell_type": "code",
   "execution_count": 8,
   "metadata": {},
   "outputs": [
    {
     "data": {
      "text/plain": [
       "0        1190.728087\n",
       "1          99.496179\n",
       "2        5348.915150\n",
       "3         773.519400\n",
       "4         728.985542\n",
       "            ...     \n",
       "85638     122.458884\n",
       "85639    4363.553928\n",
       "85640     201.658053\n",
       "85641     267.999888\n",
       "85642    3443.343820\n",
       "Name: population_x, Length: 85643, dtype: float64"
      ]
     },
     "execution_count": 8,
     "metadata": {},
     "output_type": "execute_result"
    }
   ],
   "source": [
    "rwi_df['population_x']"
   ]
  },
  {
   "cell_type": "code",
   "execution_count": 9,
   "metadata": {},
   "outputs": [
    {
     "data": {
      "text/plain": [
       "0        1190.728087\n",
       "1          99.496179\n",
       "2        5348.915150\n",
       "3         773.519400\n",
       "4         728.985542\n",
       "            ...     \n",
       "85638     122.458884\n",
       "85639    4363.553928\n",
       "85640     201.658053\n",
       "85641     535.999776\n",
       "85642    6886.687640\n",
       "Name: population_y, Length: 85643, dtype: float64"
      ]
     },
     "execution_count": 9,
     "metadata": {},
     "output_type": "execute_result"
    }
   ],
   "source": [
    "rwi_df['population_y']"
   ]
  },
  {
   "cell_type": "code",
   "execution_count": 10,
   "metadata": {},
   "outputs": [
    {
     "data": {
      "text/plain": [
       "Index(['geo_id', 'population'], dtype='object')"
      ]
     },
     "execution_count": 10,
     "metadata": {},
     "output_type": "execute_result"
    }
   ],
   "source": [
    "geo_pop.columns"
   ]
  },
  {
   "cell_type": "code",
   "execution_count": 11,
   "metadata": {},
   "outputs": [],
   "source": [
    "rwi_df['pop_weight'] = rwi_df['population_y'] / rwi_df['geo_id'].map(geo_pop.set_index('geo_id')['population'])\n",
    "rwi_df['rwi_weight'] = rwi_df['rwi'] * rwi_df['pop_weight']\n"
   ]
  },
  {
   "cell_type": "code",
   "execution_count": 12,
   "metadata": {},
   "outputs": [
    {
     "data": {
      "text/plain": [
       "0       -0.000128\n",
       "1       -0.000293\n",
       "2       -0.000675\n",
       "3       -0.000641\n",
       "4       -0.000181\n",
       "           ...   \n",
       "85638   -0.000169\n",
       "85639    0.000701\n",
       "85640   -0.000044\n",
       "85641   -0.000061\n",
       "85642   -0.002611\n",
       "Name: rwi_weight, Length: 85643, dtype: float64"
      ]
     },
     "execution_count": 12,
     "metadata": {},
     "output_type": "execute_result"
    }
   ],
   "source": [
    "rwi_df['rwi_weight']"
   ]
  },
  {
   "cell_type": "code",
   "execution_count": 13,
   "metadata": {},
   "outputs": [],
   "source": [
    "#rwi_df.to_csv('/Users/kismatkhatri/Documents/Capstone project/Weighted_RWI_with_lat_lon.csv', index=False)"
   ]
  },
  {
   "cell_type": "code",
   "execution_count": 14,
   "metadata": {},
   "outputs": [],
   "source": [
    "geo_rwi = rwi_df.groupby('geo_id', as_index=False)['rwi_weight'].sum()\n"
   ]
  },
  {
   "cell_type": "code",
   "execution_count": 15,
   "metadata": {},
   "outputs": [
    {
     "data": {
      "text/html": [
       "<div>\n",
       "<style scoped>\n",
       "    .dataframe tbody tr th:only-of-type {\n",
       "        vertical-align: middle;\n",
       "    }\n",
       "\n",
       "    .dataframe tbody tr th {\n",
       "        vertical-align: top;\n",
       "    }\n",
       "\n",
       "    .dataframe thead th {\n",
       "        text-align: right;\n",
       "    }\n",
       "</style>\n",
       "<table border=\"1\" class=\"dataframe\">\n",
       "  <thead>\n",
       "    <tr style=\"text-align: right;\">\n",
       "      <th></th>\n",
       "      <th>geo_id</th>\n",
       "      <th>rwi_weight</th>\n",
       "    </tr>\n",
       "  </thead>\n",
       "  <tbody>\n",
       "    <tr>\n",
       "      <th>0</th>\n",
       "      <td>PK101</td>\n",
       "      <td>0.050482</td>\n",
       "    </tr>\n",
       "    <tr>\n",
       "      <th>1</th>\n",
       "      <td>PK102</td>\n",
       "      <td>0.027296</td>\n",
       "    </tr>\n",
       "    <tr>\n",
       "      <th>2</th>\n",
       "      <td>PK103</td>\n",
       "      <td>0.021551</td>\n",
       "    </tr>\n",
       "    <tr>\n",
       "      <th>3</th>\n",
       "      <td>PK104</td>\n",
       "      <td>-0.263393</td>\n",
       "    </tr>\n",
       "    <tr>\n",
       "      <th>4</th>\n",
       "      <td>PK105</td>\n",
       "      <td>0.066787</td>\n",
       "    </tr>\n",
       "  </tbody>\n",
       "</table>\n",
       "</div>"
      ],
      "text/plain": [
       "  geo_id  rwi_weight\n",
       "0  PK101    0.050482\n",
       "1  PK102    0.027296\n",
       "2  PK103    0.021551\n",
       "3  PK104   -0.263393\n",
       "4  PK105    0.066787"
      ]
     },
     "execution_count": 15,
     "metadata": {},
     "output_type": "execute_result"
    }
   ],
   "source": [
    "geo_rwi.head()"
   ]
  },
  {
   "cell_type": "markdown",
   "metadata": {},
   "source": [
    "##  i.\tWhat is the distribution of relative wealth observed within districts? How much information is being lost by aggregating information at the district level? Does the concentration of the poorest differ given both indices?"
   ]
  },
  {
   "cell_type": "code",
   "execution_count": 16,
   "metadata": {},
   "outputs": [
    {
     "data": {
      "image/png": "[encoded data removed]",
      "text/plain": [
       "<Figure size 720x432 with 1 Axes>"
      ]
     },
     "metadata": {
      "needs_background": "light"
     },
     "output_type": "display_data"
    }
   ],
   "source": [
    "\n",
    "# Overall Distribution of RWI Weights\n",
    "plt.figure(figsize=(10, 6))\n",
    "sns.histplot(geo_rwi['rwi_weight'], bins=30, kde=True)\n",
    "plt.title('Overall Distribution of RWI Weights')\n",
    "plt.xlabel('RWI Weight')\n",
    "plt.ylabel('Frequency')\n",
    "plt.show()"
   ]
  },
  {
   "cell_type": "code",
   "execution_count": 17,
   "metadata": {},
   "outputs": [],
   "source": [
    "# Statistical summary for the RWI weights across all districts\n",
    "summary_stats = geo_rwi['rwi_weight'].describe()"
   ]
  },
  {
   "cell_type": "code",
   "execution_count": 18,
   "metadata": {},
   "outputs": [
    {
     "name": "stdout",
     "output_type": "stream",
     "text": [
      "count    160.000000\n",
      "mean       0.039244\n",
      "std        0.322693\n",
      "min       -0.468619\n",
      "25%       -0.194072\n",
      "50%       -0.037107\n",
      "75%        0.173024\n",
      "max        1.213413\n",
      "Name: rwi_weight, dtype: float64\n"
     ]
    }
   ],
   "source": [
    "# Display a statistical summary\n",
    "print(summary_stats)\n",
    "\n"
   ]
  },
  {
   "cell_type": "code",
   "execution_count": 19,
   "metadata": {},
   "outputs": [
    {
     "data": {
      "image/png": "[encoded data removed]",
      "text/plain": [
       "<Figure size 864x576 with 1 Axes>"
      ]
     },
     "metadata": {
      "needs_background": "light"
     },
     "output_type": "display_data"
    }
   ],
   "source": [
    "\n",
    "# Now, let's visualize the variation within each district using a violin plot,\n",
    "# which is a better visual tool than a boxplot for understanding the distribution shape.\n",
    "plt.figure(figsize=(12, 8))\n",
    "sns.violinplot(x='geo_id', y='rwi_weight', data=geo_rwi)\n",
    "plt.xticks(rotation=90)\n",
    "plt.title('RWI Weight Distribution by District')\n",
    "plt.xlabel('District (geo_id)')\n",
    "plt.ylabel('RWI Weight')\n",
    "plt.show()\n"
   ]
  },
  {
   "cell_type": "code",
   "execution_count": 20,
   "metadata": {},
   "outputs": [
    {
     "data": {
      "text/html": [
       "<div>\n",
       "<style scoped>\n",
       "    .dataframe tbody tr th:only-of-type {\n",
       "        vertical-align: middle;\n",
       "    }\n",
       "\n",
       "    .dataframe tbody tr th {\n",
       "        vertical-align: top;\n",
       "    }\n",
       "\n",
       "    .dataframe thead th {\n",
       "        text-align: right;\n",
       "    }\n",
       "</style>\n",
       "<table border=\"1\" class=\"dataframe\">\n",
       "  <thead>\n",
       "    <tr style=\"text-align: right;\">\n",
       "      <th></th>\n",
       "      <th>geo_id</th>\n",
       "      <th>rwi_weight</th>\n",
       "    </tr>\n",
       "  </thead>\n",
       "  <tbody>\n",
       "    <tr>\n",
       "      <th>17</th>\n",
       "      <td>PK208</td>\n",
       "      <td>-0.468619</td>\n",
       "    </tr>\n",
       "    <tr>\n",
       "      <th>58</th>\n",
       "      <td>PK314</td>\n",
       "      <td>-0.466479</td>\n",
       "    </tr>\n",
       "    <tr>\n",
       "      <th>21</th>\n",
       "      <td>PK212</td>\n",
       "      <td>-0.434805</td>\n",
       "    </tr>\n",
       "    <tr>\n",
       "      <th>11</th>\n",
       "      <td>PK202</td>\n",
       "      <td>-0.380809</td>\n",
       "    </tr>\n",
       "    <tr>\n",
       "      <th>38</th>\n",
       "      <td>PK229</td>\n",
       "      <td>-0.368134</td>\n",
       "    </tr>\n",
       "    <tr>\n",
       "      <th>131</th>\n",
       "      <td>PK701</td>\n",
       "      <td>-0.363595</td>\n",
       "    </tr>\n",
       "    <tr>\n",
       "      <th>152</th>\n",
       "      <td>PK722</td>\n",
       "      <td>-0.362299</td>\n",
       "    </tr>\n",
       "    <tr>\n",
       "      <th>31</th>\n",
       "      <td>PK222</td>\n",
       "      <td>-0.352871</td>\n",
       "    </tr>\n",
       "    <tr>\n",
       "      <th>156</th>\n",
       "      <td>PK726</td>\n",
       "      <td>-0.347638</td>\n",
       "    </tr>\n",
       "    <tr>\n",
       "      <th>10</th>\n",
       "      <td>PK201</td>\n",
       "      <td>-0.346397</td>\n",
       "    </tr>\n",
       "  </tbody>\n",
       "</table>\n",
       "</div>"
      ],
      "text/plain": [
       "    geo_id  rwi_weight\n",
       "17   PK208   -0.468619\n",
       "58   PK314   -0.466479\n",
       "21   PK212   -0.434805\n",
       "11   PK202   -0.380809\n",
       "38   PK229   -0.368134\n",
       "131  PK701   -0.363595\n",
       "152  PK722   -0.362299\n",
       "31   PK222   -0.352871\n",
       "156  PK726   -0.347638\n",
       "10   PK201   -0.346397"
      ]
     },
     "execution_count": 20,
     "metadata": {},
     "output_type": "execute_result"
    }
   ],
   "source": [
    "# Concentration of the Poorest: Identifying areas with the lowest RWI scores\n",
    "poorest_districts = geo_rwi.nsmallest(10, 'rwi_weight')  # Top 10 poorest by RWI weight\n",
    "\n",
    "# Display the identified poorest districts\n",
    "poorest_districts"
   ]
  },
  {
   "cell_type": "code",
   "execution_count": 21,
   "metadata": {},
   "outputs": [
    {
     "data": {
      "image/png": "[encoded data removed]",
      "text/plain": [
       "<Figure size 720x432 with 1 Axes>"
      ]
     },
     "metadata": {
      "needs_background": "light"
     },
     "output_type": "display_data"
    }
   ],
   "source": [
    "# Density Plot for RWI weights\n",
    "plt.figure(figsize=(10, 6))\n",
    "sns.kdeplot(geo_rwi['rwi_weight'], fill=True)\n",
    "plt.title('Density Plot of RWI Weights')\n",
    "plt.xlabel('RWI Weight')\n",
    "plt.ylabel('Density')\n",
    "plt.show()\n"
   ]
  },
  {
   "cell_type": "code",
   "execution_count": 22,
   "metadata": {},
   "outputs": [
    {
     "data": {
      "image/png": "[encoded data removed]",
      "text/plain": [
       "<Figure size 720x432 with 1 Axes>"
      ]
     },
     "metadata": {
      "needs_background": "light"
     },
     "output_type": "display_data"
    }
   ],
   "source": [
    "# Cumulative Distribution Function (CDF) for RWI weights\n",
    "plt.figure(figsize=(10, 6))\n",
    "sns.ecdfplot(data=geo_rwi, x='rwi_weight')\n",
    "plt.title('CDF of RWI Weights')\n",
    "plt.xlabel('RWI Weight')\n",
    "plt.ylabel('Cumulative Probability')\n",
    "plt.show()\n"
   ]
  },
  {
   "cell_type": "code",
   "execution_count": 23,
   "metadata": {},
   "outputs": [
    {
     "name": "stdout",
     "output_type": "stream",
     "text": [
      "Deciles of RWI Weights:\n",
      "0.1   -0.276878\n",
      "0.2   -0.212699\n",
      "0.3   -0.144137\n",
      "0.4   -0.094395\n",
      "0.5   -0.037107\n",
      "0.6    0.048820\n",
      "0.7    0.115802\n",
      "0.8    0.246310\n",
      "0.9    0.477394\n",
      "Name: rwi_weight, dtype: float64\n"
     ]
    }
   ],
   "source": [
    "# Quantile Analysis\n",
    "# Calculate the deciles of RWI weights\n",
    "deciles = geo_rwi['rwi_weight'].quantile([.1, .2, .3, .4, .5, .6, .7, .8, .9])\n",
    "\n",
    "# Display the deciles\n",
    "print(\"Deciles of RWI Weights:\")\n",
    "print(deciles)"
   ]
  },
  {
   "cell_type": "code",
   "execution_count": 16,
   "metadata": {},
   "outputs": [],
   "source": [
    "#geo_rwi.to_csv('/Users/kismatkhatri/Documents/Capstone project/Weighted_RWI_geo_id.csv', index=False)"
   ]
  },
  {
   "cell_type": "markdown",
   "metadata": {},
   "source": [
    "## ii.\tHow the distribution of wealth varies within districts urban and rural areas?"
   ]
  },
  {
   "cell_type": "code",
   "execution_count": 33,
   "metadata": {},
   "outputs": [],
   "source": [
    "# Function to map latitude and longitude to raster grid coordinates\n",
    "def latlon_to_raster_coords(lat, lon, transform):\n",
    "    row, col = ~transform * (lon, lat)\n",
    "    return int(row), int(col)\n",
    "\n",
    "# Function to map lat, lon to the DB urban classification\n",
    "def map_to_db_class(lat, lon, urban_classification, transform, width, height):\n",
    "    row, col = latlon_to_raster_coords(lat, lon, transform)\n",
    "    if 0 <= row < height and 0 <= col < width:\n",
    "        return urban_classification[row, col]\n",
    "    else:\n",
    "        return 0"
   ]
  },
  {
   "cell_type": "code",
   "execution_count": 34,
   "metadata": {},
   "outputs": [
    {
     "data": {
      "image/png": "[encoded data removed]",
      "text/plain": [
       "<Figure size 576x576 with 2 Axes>"
      ]
     },
     "metadata": {
      "needs_background": "light"
     },
     "output_type": "display_data"
    }
   ],
   "source": [
    "\n",
    "\n",
    "# Function to read raster data into a numpy array\n",
    "def read_raster_data(file_path):\n",
    "    with rasterio.open(file_path) as dataset:\n",
    "        return dataset.read(1)  # Reading the first band\n",
    "\n",
    "# Function to apply Gaussian smoothing (kernel smoothing) to a raster\n",
    "def apply_smoothing(raster_data, sigma=1):\n",
    "    return gaussian_filter(raster_data, sigma=sigma)\n",
    "\n",
    "# Load and read the urbanization raster files\n",
    "cc_path = '/Users/kismatkhatri/Documents/Capstone project/urban data/pak1k_gpod10b3000_cc.tif'\n",
    "co_path = '/Users/kismatkhatri/Documents/Capstone project/urban data/pak1k_gpod10b3000_co.tif'\n",
    "ct_path = '/Users/kismatkhatri/Documents/Capstone project/urban data/pak1k_gpod10b3000_ct.tif'\n",
    "ur_path = '/Users/kismatkhatri/Documents/Capstone project/urban data/pak1k_gpod10b3000_ur.tif'\n",
    "\n",
    "cc_data = read_raster_data(cc_path)\n",
    "co_data = read_raster_data(co_path)\n",
    "ct_data = read_raster_data(ct_path)\n",
    "ur_data = read_raster_data(ur_path)\n",
    "\n",
    "# Applying Gaussian smoothing to each raster dataset\n",
    "smoothed_cc = apply_smoothing(cc_data)\n",
    "smoothed_co = apply_smoothing(co_data)\n",
    "smoothed_ct = apply_smoothing(ct_data)\n",
    "smoothed_ur = apply_smoothing(ur_data)\n",
    "\n",
    "# Compute a counterfactual threshold representing the 95th percentile of these densities\n",
    "counterfactual_threshold = np.percentile(\n",
    "    np.concatenate([smoothed_cc, smoothed_co, smoothed_ct, smoothed_ur]), 95\n",
    ")\n",
    "\n",
    "# Classifying areas based on the counterfactual threshold\n",
    "urban_classification_db = np.zeros_like(smoothed_cc)\n",
    "urban_classification_db[(smoothed_cc > counterfactual_threshold) |\n",
    "                        (smoothed_co > counterfactual_threshold) |\n",
    "                        (smoothed_ct > counterfactual_threshold) |\n",
    "                        (smoothed_ur > counterfactual_threshold)] = 1\n",
    "\n",
    "# Displaying the urban classification according to the simplified DB approach\n",
    "plt.figure(figsize=(8, 8))\n",
    "plt.imshow(urban_classification_db, cmap='viridis')\n",
    "plt.colorbar(label='Urban Classification (DB)')\n",
    "plt.title('Urban Classification (DB Approach - Simplified)')\n",
    "plt.show()\n"
   ]
  },
  {
   "cell_type": "code",
   "execution_count": 35,
   "metadata": {},
   "outputs": [
    {
     "name": "stdout",
     "output_type": "stream",
     "text": [
      "    latitude  longitude    rwi  error         quadkey  population_x geo_id  \\\n",
      "0  33.897776  70.037842 -0.074  0.624  12310221130231   1190.728087  PK518   \n",
      "1  31.118794  66.807861 -0.569  0.368  12303111302200     99.496179  PK235   \n",
      "2  32.648625  73.245850 -0.193  0.498  12310322022121   5348.915150  PK613   \n",
      "3  35.182788  72.894287 -0.178  0.355  12310213112323    773.519400  PK515   \n",
      "4  25.948166  69.268799 -0.530  0.450  12312201232000    728.985542  PK718   \n",
      "\n",
      "   population_y  pop_weight  rwi_weight  dou_class  \n",
      "0   1190.728087    0.001726   -0.000128          1  \n",
      "1     99.496179    0.000515   -0.000293          0  \n",
      "2   5348.915150    0.003497   -0.000675          2  \n",
      "3    773.519400    0.003601   -0.000641          1  \n",
      "4    728.985542    0.000342   -0.000181          1  \n"
     ]
    }
   ],
   "source": [
    "\n",
    "# DOU thresholds\n",
    "urban_threshold = 300  # people per km² for urban areas\n",
    "high_density_urban_threshold = 1500  # people per km² for high-density urban areas\n",
    "\n",
    "# Classify areas based on DOU criteria\n",
    "rwi_df['dou_class'] = rwi_df['population_x'].apply(\n",
    "    lambda x: 2 if x >= high_density_urban_threshold \n",
    "    else (1 if x >= urban_threshold else 0)\n",
    ")\n",
    "\n",
    "# Display the first few rows of the DataFrame with the new classification\n",
    "print(rwi_df.head())\n"
   ]
  },
  {
   "cell_type": "code",
   "execution_count": null,
   "metadata": {},
   "outputs": [],
   "source": []
  },
  {
   "cell_type": "code",
   "execution_count": 38,
   "metadata": {},
   "outputs": [
    {
     "data": {
      "image/png": "[encoded data removed]",
      "text/plain": [
       "<Figure size 864x432 with 1 Axes>"
      ]
     },
     "metadata": {
      "needs_background": "light"
     },
     "output_type": "display_data"
    },
    {
     "data": {
      "image/png": "[encoded data removed]",
      "text/plain": [
       "<Figure size 864x432 with 1 Axes>"
      ]
     },
     "metadata": {
      "needs_background": "light"
     },
     "output_type": "display_data"
    }
   ],
   "source": [
    "# Mapping DB urban classification to the RWI data\n",
    "rwi_df['db_class'] = rwi_df.apply(\n",
    "    lambda row: map_to_db_class(row['latitude'], row['longitude'], urban_classification_db, transform, width, height),\n",
    "    axis=1\n",
    ")\n",
    "\n",
    "# Grouping by DOU and DB classification and calculating average RWI\n",
    "rwi_by_dou_class = rwi_df.groupby('dou_class')['rwi'].mean().reset_index()\n",
    "rwi_by_db_class = rwi_df.groupby('db_class')['rwi'].mean().reset_index()\n",
    "\n",
    "# Visualization of RWI across DOU and DB classifications\n",
    "\n",
    "# DOU classification visualization\n",
    "plt.figure(figsize=(12, 6))\n",
    "sns.barplot(x='dou_class', y='rwi', data=rwi_by_dou_class)\n",
    "plt.title('Average RWI by DOU Classification')\n",
    "plt.xlabel('DOU Classification')\n",
    "plt.ylabel('Average RWI')\n",
    "plt.xticks(ticks=[0, 1, 2], labels=['Rural', 'Urban', 'High-Density Urban'])\n",
    "plt.show()\n",
    "\n",
    "# DB classification visualization\n",
    "plt.figure(figsize=(12, 6))\n",
    "sns.barplot(x='db_class', y='rwi', data=rwi_by_db_class)\n",
    "plt.title('Average RWI by DB Classification')\n",
    "plt.xlabel('DB Classification')\n",
    "plt.ylabel('Average RWI')\n",
    "plt.xticks(ticks=[0, 1], labels=['Below Threshold (Rural/Less Urbanized)', 'Above Threshold (Urban)'])\n",
    "plt.show()"
   ]
  },
  {
   "cell_type": "code",
   "execution_count": 39,
   "metadata": {},
   "outputs": [
    {
     "data": {
      "image/png": "[encoded data removed]",
      "text/plain": [
       "<Figure size 864x432 with 1 Axes>"
      ]
     },
     "metadata": {
      "needs_background": "light"
     },
     "output_type": "display_data"
    },
    {
     "data": {
      "image/png": "[encoded data removed]",
      "text/plain": [
       "<Figure size 864x432 with 1 Axes>"
      ]
     },
     "metadata": {
      "needs_background": "light"
     },
     "output_type": "display_data"
    }
   ],
   "source": [
    "# Mapping DB urban classification to the RWI data\n",
    "rwi_df['db_class'] = rwi_df.apply(\n",
    "    lambda row: map_to_db_class(row['latitude'], row['longitude'], urban_classification_db, transform, width, height),\n",
    "    axis=1\n",
    ")\n",
    "\n",
    "# Grouping by DOU and DB classification and calculating average RWI\n",
    "rwi_by_dou_class = rwi_df.groupby('dou_class')['rwi_weight'].mean().reset_index()\n",
    "rwi_by_db_class = rwi_df.groupby('db_class')['rwi_weight'].mean().reset_index()\n",
    "\n",
    "# Visualization of RWI across DOU and DB classifications\n",
    "\n",
    "# DOU classification visualization\n",
    "plt.figure(figsize=(12, 6))\n",
    "sns.barplot(x='dou_class', y='rwi_weight', data=rwi_by_dou_class)\n",
    "plt.title('Average weighted RWI by DOU Classification')\n",
    "plt.xlabel('DOU Classification')\n",
    "plt.ylabel('Average Weighetd RWI')\n",
    "plt.xticks(ticks=[0, 1, 2], labels=['Rural', 'Urban', 'High-Density Urban'])\n",
    "plt.show()\n",
    "\n",
    "# DB classification visualization\n",
    "plt.figure(figsize=(12, 6))\n",
    "sns.barplot(x='db_class', y='rwi_weight', data=rwi_by_db_class)\n",
    "plt.title('Average weigted RWI by DB Classification')\n",
    "plt.xlabel('DB Classification')\n",
    "plt.ylabel('Average Weighted RWI')\n",
    "plt.xticks(ticks=[0, 1], labels=['Below Threshold (Rural/Less Urbanized)', 'Above Threshold (Urban)'])\n",
    "plt.show()"
   ]
  },
  {
   "cell_type": "code",
   "execution_count": 40,
   "metadata": {},
   "outputs": [
    {
     "data": {
      "image/png": "[encoded data removed]",
      "text/plain": [
       "<Figure size 432x288 with 2 Axes>"
      ]
     },
     "metadata": {
      "needs_background": "light"
     },
     "output_type": "display_data"
    }
   ],
   "source": [
    "# Example: Correlation matrix\n",
    "correlation_matrix = rwi_df[['rwi', 'dou_class', 'db_class']].corr()\n",
    "sns.heatmap(correlation_matrix, annot=True)\n",
    "plt.show()\n"
   ]
  },
  {
   "cell_type": "code",
   "execution_count": 41,
   "metadata": {},
   "outputs": [
    {
     "data": {
      "image/png": "[encoded data removed]",
      "text/plain": [
       "<Figure size 432x288 with 2 Axes>"
      ]
     },
     "metadata": {
      "needs_background": "light"
     },
     "output_type": "display_data"
    }
   ],
   "source": [
    "# Example: Correlation matrix\n",
    "correlation_matrix = rwi_df[['rwi_weight', 'dou_class', 'db_class']].corr()\n",
    "sns.heatmap(correlation_matrix, annot=True)\n",
    "plt.show()\n"
   ]
  },
  {
   "cell_type": "code",
   "execution_count": 42,
   "metadata": {},
   "outputs": [
    {
     "name": "stdout",
     "output_type": "stream",
     "text": [
      "                            OLS Regression Results                            \n",
      "==============================================================================\n",
      "Dep. Variable:                    rwi   R-squared:                       0.199\n",
      "Model:                            OLS   Adj. R-squared:                  0.199\n",
      "Method:                 Least Squares   F-statistic:                 2.131e+04\n",
      "Date:                Wed, 22 Nov 2023   Prob (F-statistic):               0.00\n",
      "Time:                        16:06:10   Log-Likelihood:                -33197.\n",
      "No. Observations:               85643   AIC:                         6.640e+04\n",
      "Df Residuals:                   85641   BIC:                         6.642e+04\n",
      "Df Model:                           1                                         \n",
      "Covariance Type:            nonrobust                                         \n",
      "==============================================================================\n",
      "                 coef    std err          t      P>|t|      [0.025      0.975]\n",
      "------------------------------------------------------------------------------\n",
      "const         -0.5200      0.002   -234.473      0.000      -0.524      -0.516\n",
      "dou_class      0.2239      0.002    145.982      0.000       0.221       0.227\n",
      "db_class            0          0        nan        nan           0           0\n",
      "==============================================================================\n",
      "Omnibus:                     6963.399   Durbin-Watson:                   1.985\n",
      "Prob(Omnibus):                  0.000   Jarque-Bera (JB):            10118.345\n",
      "Skew:                           0.660   Prob(JB):                         0.00\n",
      "Kurtosis:                       4.045   Cond. No.                          inf\n",
      "==============================================================================\n",
      "\n",
      "Notes:\n",
      "[1] Standard Errors assume that the covariance matrix of the errors is correctly specified.\n",
      "[2] The smallest eigenvalue is      0. This might indicate that there are\n",
      "strong multicollinearity problems or that the design matrix is singular.\n"
     ]
    },
    {
     "name": "stderr",
     "output_type": "stream",
     "text": [
      "/Users/kismatkhatri/opt/anaconda3/lib/python3.9/site-packages/statsmodels/regression/linear_model.py:1965: RuntimeWarning: divide by zero encountered in double_scalars\n",
      "  return np.sqrt(eigvals[0]/eigvals[-1])\n"
     ]
    }
   ],
   "source": [
    "import statsmodels.api as sm\n",
    "\n",
    "# Assuming rwi_df is your DataFrame and it includes 'rwi', 'dou_class', and 'db_class'\n",
    "\n",
    "# Preparing the data for regression\n",
    "X = rwi_df[['dou_class', 'db_class']]  # Independent variables\n",
    "X = sm.add_constant(X)  # Adds a constant term to the predictor\n",
    "y = rwi_df['rwi']  # Dependent variable\n",
    "\n",
    "# Building the regression model\n",
    "model = sm.OLS(y, X).fit()\n",
    "\n",
    "# Viewing the summary of the regression\n",
    "print(model.summary())\n"
   ]
  },
  {
   "cell_type": "code",
   "execution_count": 43,
   "metadata": {},
   "outputs": [
    {
     "name": "stdout",
     "output_type": "stream",
     "text": [
      "                            OLS Regression Results                            \n",
      "==============================================================================\n",
      "Dep. Variable:             rwi_weight   R-squared:                       0.011\n",
      "Model:                            OLS   Adj. R-squared:                  0.011\n",
      "Method:                 Least Squares   F-statistic:                     935.1\n",
      "Date:                Wed, 22 Nov 2023   Prob (F-statistic):          2.91e-204\n",
      "Time:                        16:06:35   Log-Likelihood:             3.6102e+05\n",
      "No. Observations:               85643   AIC:                        -7.220e+05\n",
      "Df Residuals:                   85641   BIC:                        -7.220e+05\n",
      "Df Model:                           1                                         \n",
      "Covariance Type:            nonrobust                                         \n",
      "==============================================================================\n",
      "                 coef    std err          t      P>|t|      [0.025      0.975]\n",
      "------------------------------------------------------------------------------\n",
      "const         -0.0005   2.22e-05    -22.254      0.000      -0.001      -0.000\n",
      "dou_class      0.0005   1.54e-05     30.579      0.000       0.000       0.001\n",
      "db_class            0          0        nan        nan           0           0\n",
      "==============================================================================\n",
      "Omnibus:                   193695.534   Durbin-Watson:                   1.979\n",
      "Prob(Omnibus):                  0.000   Jarque-Bera (JB):       2284934932.590\n",
      "Skew:                          21.412   Prob(JB):                         0.00\n",
      "Kurtosis:                     802.050   Cond. No.                          inf\n",
      "==============================================================================\n",
      "\n",
      "Notes:\n",
      "[1] Standard Errors assume that the covariance matrix of the errors is correctly specified.\n",
      "[2] The smallest eigenvalue is      0. This might indicate that there are\n",
      "strong multicollinearity problems or that the design matrix is singular.\n"
     ]
    },
    {
     "name": "stderr",
     "output_type": "stream",
     "text": [
      "/Users/kismatkhatri/opt/anaconda3/lib/python3.9/site-packages/statsmodels/regression/linear_model.py:1965: RuntimeWarning: divide by zero encountered in double_scalars\n",
      "  return np.sqrt(eigvals[0]/eigvals[-1])\n"
     ]
    }
   ],
   "source": [
    "import statsmodels.api as sm\n",
    "\n",
    "# Assuming rwi_df is your DataFrame and it includes 'rwi', 'dou_class', and 'db_class'\n",
    "\n",
    "# Preparing the data for regression\n",
    "X = rwi_df[['dou_class', 'db_class']]  # Independent variables\n",
    "X = sm.add_constant(X)  # Adds a constant term to the predictor\n",
    "y = rwi_df['rwi_weight']  # Dependent variable\n",
    "\n",
    "# Building the regression model\n",
    "model = sm.OLS(y, X).fit()\n",
    "\n",
    "# Viewing the summary of the regression\n",
    "print(model.summary())\n"
   ]
  },
  {
   "cell_type": "code",
   "execution_count": 44,
   "metadata": {},
   "outputs": [
    {
     "name": "stdout",
     "output_type": "stream",
     "text": [
      "Mean Squared Error: 0.12403656884854186\n",
      "R-squared: 0.19791107666244645\n"
     ]
    }
   ],
   "source": [
    "from sklearn.linear_model import LinearRegression\n",
    "from sklearn.model_selection import train_test_split\n",
    "from sklearn.metrics import mean_squared_error, r2_score\n",
    "\n",
    "# Preparing the data for regression\n",
    "X = rwi_df[['dou_class', 'db_class']]  # Independent variables\n",
    "y = rwi_df['rwi']  # Dependent variable\n",
    "\n",
    "# Splitting the data into training and testing sets\n",
    "X_train, X_test, y_train, y_test = train_test_split(X, y, test_size=0.2, random_state=0)\n",
    "\n",
    "# Building the regression model\n",
    "model = LinearRegression()\n",
    "model.fit(X_train, y_train)\n",
    "\n",
    "# Making predictions\n",
    "y_pred = model.predict(X_test)\n",
    "\n",
    "# Evaluating the model\n",
    "mse = mean_squared_error(y_test, y_pred)\n",
    "r2 = r2_score(y_test, y_pred)\n",
    "\n",
    "print(f'Mean Squared Error: {mse}')\n",
    "print(f'R-squared: {r2}')\n"
   ]
  },
  {
   "cell_type": "code",
   "execution_count": 45,
   "metadata": {},
   "outputs": [
    {
     "name": "stdout",
     "output_type": "stream",
     "text": [
      "Mean Squared Error: 9.03127849273747e-06\n",
      "R-squared: 0.012137982440640127\n"
     ]
    }
   ],
   "source": [
    "from sklearn.linear_model import LinearRegression\n",
    "from sklearn.model_selection import train_test_split\n",
    "from sklearn.metrics import mean_squared_error, r2_score\n",
    "\n",
    "# Preparing the data for regression\n",
    "X = rwi_df[['dou_class', 'db_class']]  # Independent variables\n",
    "y = rwi_df['rwi_weight']  # Dependent variable\n",
    "\n",
    "# Splitting the data into training and testing sets\n",
    "X_train, X_test, y_train, y_test = train_test_split(X, y, test_size=0.2, random_state=0)\n",
    "\n",
    "# Building the regression model\n",
    "model = LinearRegression()\n",
    "model.fit(X_train, y_train)\n",
    "\n",
    "# Making predictions\n",
    "y_pred = model.predict(X_test)\n",
    "\n",
    "# Evaluating the model\n",
    "mse = mean_squared_error(y_test, y_pred)\n",
    "r2 = r2_score(y_test, y_pred)\n",
    "\n",
    "print(f'Mean Squared Error: {mse}')\n",
    "print(f'R-squared: {r2}')\n"
   ]
  },
  {
   "cell_type": "code",
   "execution_count": null,
   "metadata": {},
   "outputs": [],
   "source": []
  }
 ],
 "metadata": {
  "kernelspec": {
   "display_name": "base",
   "language": "python",
   "name": "python3"
  },
  "language_info": {
   "codemirror_mode": {
    "name": "ipython",
    "version": 3
   },
   "file_extension": ".py",
   "mimetype": "text/x-python",
   "name": "python",
   "nbconvert_exporter": "python",
   "pygments_lexer": "ipython3",
   "version": "3.9.12"
  }
 },
 "nbformat": 4,
 "nbformat_minor": 2
}
